{
 "cells": [
  {
   "cell_type": "markdown",
   "id": "14e21f14",
   "metadata": {},
   "source": [
    "# 定义一棵二叉树"
   ]
  },
  {
   "cell_type": "code",
   "execution_count": 2,
   "id": "af3aa5e6",
   "metadata": {},
   "outputs": [],
   "source": [
    "class BinaryTree:\n",
    "    def __init__(self, key):\n",
    "        self.key = key\n",
    "        self.left = None\n",
    "        self.right = None"
   ]
  },
  {
   "cell_type": "markdown",
   "id": "bb8c1b06",
   "metadata": {},
   "source": [
    "定义添加左子树和右子树"
   ]
  },
  {
   "cell_type": "code",
   "execution_count": 4,
   "id": "22a4a9f9",
   "metadata": {},
   "outputs": [],
   "source": [
    "    def insertLeft(self, newNode):\n",
    "        if self.left == None:\n",
    "            self.left = BinaryTree(newNode)\n",
    "        else:\n",
    "            t = BinaryTree(newNode)\n",
    "            t.left = self.left\n",
    "            self.left = t\n",
    "    \n",
    "    def insertright(self, newNode):\n",
    "        if self.right == None:\n",
    "            self.right = BinaryTree(newNode)\n",
    "        else:\n",
    "            t = BinaryTree(newNode)\n",
    "            t.right = self.right\n",
    "            self.right = t"
   ]
  },
  {
   "cell_type": "markdown",
   "id": "9b059acc",
   "metadata": {},
   "source": [
    "定义get"
   ]
  },
  {
   "cell_type": "code",
   "execution_count": 5,
   "id": "8f7c4b57",
   "metadata": {},
   "outputs": [],
   "source": [
    "    def getleft(self):\n",
    "        return self.left\n",
    "    \n",
    "    def getright(self):\n",
    "        return self.right"
   ]
  },
  {
   "cell_type": "markdown",
   "id": "1d566e30",
   "metadata": {},
   "source": [
    "改变根节点的值："
   ]
  },
  {
   "cell_type": "code",
   "execution_count": 6,
   "id": "e9258b98",
   "metadata": {},
   "outputs": [],
   "source": [
    "    def setRootval(self, newkey):\n",
    "        self.key = newkey"
   ]
  },
  {
   "cell_type": "markdown",
   "id": "75797f6f",
   "metadata": {},
   "source": [
    "定义取得根节点："
   ]
  },
  {
   "cell_type": "code",
   "execution_count": 7,
   "id": "229c1f9d",
   "metadata": {},
   "outputs": [],
   "source": [
    "    def getRootval(self):\n",
    "        return self.key"
   ]
  },
  {
   "cell_type": "markdown",
   "id": "92623062",
   "metadata": {},
   "source": [
    "# 二叉树的遍历"
   ]
  },
  {
   "cell_type": "markdown",
   "id": "74b121d0",
   "metadata": {},
   "source": [
    "前序遍历"
   ]
  },
  {
   "cell_type": "code",
   "execution_count": 23,
   "id": "2e3f46a9",
   "metadata": {},
   "outputs": [],
   "source": [
    "def preorder(tree):\n",
    "    if tree:\n",
    "        print(tree.key)\n",
    "        preorder(tree.left)\n",
    "        preorder(tree.right)"
   ]
  },
  {
   "cell_type": "markdown",
   "id": "613d13f1",
   "metadata": {},
   "source": [
    "后序遍历："
   ]
  },
  {
   "cell_type": "code",
   "execution_count": 25,
   "id": "aa4b73d2",
   "metadata": {},
   "outputs": [],
   "source": [
    "def postorder(tree):\n",
    "    if tree:\n",
    "        postorder(tree.left)\n",
    "        postorder(tree.right)\n",
    "        print(tree.key)"
   ]
  },
  {
   "cell_type": "markdown",
   "id": "15a89f53",
   "metadata": {},
   "source": [
    "中序遍历："
   ]
  },
  {
   "cell_type": "code",
   "execution_count": 26,
   "id": "d2b73806",
   "metadata": {},
   "outputs": [],
   "source": [
    "def inorder(tree):\n",
    "    if tree:\n",
    "        inorder(tree.left)\n",
    "        print(tree.key)\n",
    "        inorder(tree.right)"
   ]
  },
  {
   "cell_type": "markdown",
   "id": "31683b11",
   "metadata": {},
   "source": [
    "# 案例"
   ]
  },
  {
   "cell_type": "markdown",
   "id": "7ff8be02",
   "metadata": {},
   "source": [
    "定义一棵二叉树："
   ]
  },
  {
   "cell_type": "code",
   "execution_count": 12,
   "id": "05eda492",
   "metadata": {},
   "outputs": [],
   "source": [
    "tree = BinaryTree(1)\n",
    "tree.left = BinaryTree(2)\n",
    "tree.right = BinaryTree(3)\n",
    "tree.left.left = BinaryTree(4)\n",
    "tree.left.right = BinaryTree(5)\n",
    "tree.right.left = BinaryTree(6)\n",
    "tree.right.right = BinaryTree(7)\n",
    "tree.left.left.left = BinaryTree(8)"
   ]
  },
  {
   "cell_type": "markdown",
   "id": "b8d9d52b",
   "metadata": {},
   "source": [
    "前序遍历打印："
   ]
  },
  {
   "cell_type": "code",
   "execution_count": 24,
   "id": "9cbdd0b3",
   "metadata": {},
   "outputs": [
    {
     "name": "stdout",
     "output_type": "stream",
     "text": [
      "1\n",
      "2\n",
      "4\n",
      "8\n",
      "5\n",
      "3\n",
      "6\n",
      "7\n"
     ]
    }
   ],
   "source": [
    "preorder(tree)"
   ]
  },
  {
   "cell_type": "code",
   "execution_count": 27,
   "id": "f0adabd9",
   "metadata": {},
   "outputs": [
    {
     "name": "stdout",
     "output_type": "stream",
     "text": [
      "8\n",
      "4\n",
      "5\n",
      "2\n",
      "6\n",
      "7\n",
      "3\n",
      "1\n"
     ]
    }
   ],
   "source": [
    "postorder(tree)"
   ]
  },
  {
   "cell_type": "code",
   "execution_count": 28,
   "id": "80d015dc",
   "metadata": {},
   "outputs": [
    {
     "name": "stdout",
     "output_type": "stream",
     "text": [
      "8\n",
      "4\n",
      "2\n",
      "5\n",
      "1\n",
      "6\n",
      "3\n",
      "7\n"
     ]
    }
   ],
   "source": [
    "inorder(tree)"
   ]
  }
 ],
 "metadata": {
  "kernelspec": {
   "display_name": "Python 3",
   "language": "python",
   "name": "python3"
  },
  "language_info": {
   "codemirror_mode": {
    "name": "ipython",
    "version": 3
   },
   "file_extension": ".py",
   "mimetype": "text/x-python",
   "name": "python",
   "nbconvert_exporter": "python",
   "pygments_lexer": "ipython3",
   "version": "3.8.8"
  },
  "toc": {
   "base_numbering": 1,
   "nav_menu": {},
   "number_sections": true,
   "sideBar": true,
   "skip_h1_title": false,
   "title_cell": "Table of Contents",
   "title_sidebar": "Contents",
   "toc_cell": false,
   "toc_position": {},
   "toc_section_display": true,
   "toc_window_display": false
  },
  "varInspector": {
   "cols": {
    "lenName": 16,
    "lenType": 16,
    "lenVar": 40
   },
   "kernels_config": {
    "python": {
     "delete_cmd_postfix": "",
     "delete_cmd_prefix": "del ",
     "library": "var_list.py",
     "varRefreshCmd": "print(var_dic_list())"
    },
    "r": {
     "delete_cmd_postfix": ") ",
     "delete_cmd_prefix": "rm(",
     "library": "var_list.r",
     "varRefreshCmd": "cat(var_dic_list()) "
    }
   },
   "types_to_exclude": [
    "module",
    "function",
    "builtin_function_or_method",
    "instance",
    "_Feature"
   ],
   "window_display": false
  }
 },
 "nbformat": 4,
 "nbformat_minor": 5
}
