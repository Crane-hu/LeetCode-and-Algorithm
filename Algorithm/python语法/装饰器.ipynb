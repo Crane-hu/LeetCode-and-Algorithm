{
 "cells": [
  {
   "cell_type": "markdown",
   "id": "854340f8",
   "metadata": {},
   "source": [
    "装饰器用于对函数进行装饰，在不改变函数内部结构的状态下，相当于在原有函数上添加新功能。"
   ]
  },
  {
   "cell_type": "markdown",
   "id": "36305265",
   "metadata": {},
   "source": [
    "定义一个寻找质数的函数，并求其运行时间："
   ]
  },
  {
   "cell_type": "code",
   "execution_count": 7,
   "id": "0a54fe19",
   "metadata": {},
   "outputs": [],
   "source": [
    "import time\n",
    "\n",
    "def is_prime(num):\n",
    "    if num < 2:\n",
    "        return False\n",
    "    elif num == 2:\n",
    "        return True\n",
    "    else:\n",
    "        for i in range(2, num):\n",
    "            if num % i == 0:\n",
    "                return False\n",
    "        return True\n",
    "\n",
    "def prime_nums1():\n",
    "    start = time.time()\n",
    "    for i in range(2, 100):\n",
    "        if is_prime(i):\n",
    "            print(i)\n",
    "    end = time.time()\n",
    "    print(\"耗时为：{}\".format(end - start))"
   ]
  },
  {
   "cell_type": "markdown",
   "id": "043c538d",
   "metadata": {},
   "source": [
    "接下来打印："
   ]
  },
  {
   "cell_type": "code",
   "execution_count": 8,
   "id": "d7abfc08",
   "metadata": {},
   "outputs": [
    {
     "name": "stdout",
     "output_type": "stream",
     "text": [
      "2\n",
      "3\n",
      "5\n",
      "7\n",
      "11\n",
      "13\n",
      "17\n",
      "19\n",
      "23\n",
      "29\n",
      "31\n",
      "37\n",
      "41\n",
      "43\n",
      "47\n",
      "53\n",
      "59\n",
      "61\n",
      "67\n",
      "71\n",
      "73\n",
      "79\n",
      "83\n",
      "89\n",
      "97\n",
      "耗时为：0.000997781753540039\n"
     ]
    }
   ],
   "source": [
    "prime_nums1()"
   ]
  },
  {
   "cell_type": "markdown",
   "id": "40cf5ed1",
   "metadata": {},
   "source": [
    "接下来定义装饰器函数，装饰器其实也是一种函数，只不过接受别的函数作为参数："
   ]
  },
  {
   "cell_type": "code",
   "execution_count": 6,
   "id": "59c6c961",
   "metadata": {},
   "outputs": [],
   "source": [
    "def display_time(func):\n",
    "    def wrapper():\n",
    "        t1 = time.time()\n",
    "        func()\n",
    "        t2 = time.time()\n",
    "        print(\"耗时为：{}\".format(t2 - t1))\n",
    "    return wrapper"
   ]
  },
  {
   "cell_type": "markdown",
   "id": "a6a39ef2",
   "metadata": {},
   "source": [
    "**想应用装饰器的话，在所需要的函数上方加上语法糖：@装饰器函数**"
   ]
  },
  {
   "cell_type": "code",
   "execution_count": 9,
   "id": "f92fcece",
   "metadata": {},
   "outputs": [
    {
     "name": "stdout",
     "output_type": "stream",
     "text": [
      "2\n",
      "3\n",
      "5\n",
      "7\n",
      "11\n",
      "13\n",
      "17\n",
      "19\n",
      "23\n",
      "29\n",
      "31\n",
      "37\n",
      "41\n",
      "43\n",
      "47\n",
      "53\n",
      "59\n",
      "61\n",
      "67\n",
      "71\n",
      "73\n",
      "79\n",
      "83\n",
      "89\n",
      "97\n",
      "耗时为：0.0009965896606445312\n"
     ]
    }
   ],
   "source": [
    "@display_time\n",
    "def prime_nums2():\n",
    "    for i in range(2, 100):\n",
    "        if is_prime(i):\n",
    "            print(i)\n",
    "\n",
    "prime_nums2()"
   ]
  },
  {
   "cell_type": "markdown",
   "id": "5f472b1c",
   "metadata": {},
   "source": [
    "上述代码起到了同样的作用，如果被装饰函数有返回值，则返回值要想传进去装饰器，则需要将返回值在装饰器里面赋值给某个变量，最后返回，修改方法如下："
   ]
  },
  {
   "cell_type": "code",
   "execution_count": 14,
   "id": "cf6ce8b7",
   "metadata": {},
   "outputs": [
    {
     "name": "stdout",
     "output_type": "stream",
     "text": [
      "耗时为：0.0\n",
      "25\n"
     ]
    }
   ],
   "source": [
    "def display_time2(func):\n",
    "    def wrapper():\n",
    "        t1 = time.time()\n",
    "        result = func()\n",
    "        t2 = time.time()\n",
    "        print(\"耗时为：{}\".format(t2 - t1))\n",
    "        return result\n",
    "    return wrapper\n",
    "\n",
    "@display_time2\n",
    "def count_prime_nums():\n",
    "    count = 0\n",
    "    for i in range(2, 100):\n",
    "        if is_prime(i):\n",
    "            count += 1\n",
    "    return count\n",
    "\n",
    "count = count_prime_nums()\n",
    "print(count)"
   ]
  },
  {
   "cell_type": "markdown",
   "id": "4b779b9a",
   "metadata": {},
   "source": [
    "**重点**\n",
    "假如被包装函数有参数，且参数数量未知，则改动方法为："
   ]
  },
  {
   "cell_type": "code",
   "execution_count": 13,
   "id": "0a0567e9",
   "metadata": {},
   "outputs": [
    {
     "name": "stdout",
     "output_type": "stream",
     "text": [
      "耗时为：0.4683\n",
      "1229\n"
     ]
    }
   ],
   "source": [
    "def display_time3(func):\n",
    "    def wrapper(*args):\n",
    "        t1 = time.time()\n",
    "        result = func(*args)\n",
    "        t2 = time.time()\n",
    "        print(\"耗时为：{:.4}\".format(t2 - t1)) #此处代表保留四位小数\n",
    "        return result\n",
    "    return wrapper\n",
    "\n",
    "@display_time3\n",
    "def count_prime_nums2(maxnum):\n",
    "    count = 0\n",
    "    for i in range(2, maxnum):\n",
    "        if is_prime(i):\n",
    "            count += 1\n",
    "    return count\n",
    "\n",
    "count = count_prime_nums2(10000)\n",
    "print(count)"
   ]
  }
 ],
 "metadata": {
  "kernelspec": {
   "display_name": "Python 3",
   "language": "python",
   "name": "python3"
  },
  "language_info": {
   "codemirror_mode": {
    "name": "ipython",
    "version": 3
   },
   "file_extension": ".py",
   "mimetype": "text/x-python",
   "name": "python",
   "nbconvert_exporter": "python",
   "pygments_lexer": "ipython3",
   "version": "3.8.8"
  },
  "toc": {
   "base_numbering": 1,
   "nav_menu": {},
   "number_sections": true,
   "sideBar": true,
   "skip_h1_title": false,
   "title_cell": "Table of Contents",
   "title_sidebar": "Contents",
   "toc_cell": false,
   "toc_position": {},
   "toc_section_display": true,
   "toc_window_display": false
  },
  "varInspector": {
   "cols": {
    "lenName": 16,
    "lenType": 16,
    "lenVar": 40
   },
   "kernels_config": {
    "python": {
     "delete_cmd_postfix": "",
     "delete_cmd_prefix": "del ",
     "library": "var_list.py",
     "varRefreshCmd": "print(var_dic_list())"
    },
    "r": {
     "delete_cmd_postfix": ") ",
     "delete_cmd_prefix": "rm(",
     "library": "var_list.r",
     "varRefreshCmd": "cat(var_dic_list()) "
    }
   },
   "types_to_exclude": [
    "module",
    "function",
    "builtin_function_or_method",
    "instance",
    "_Feature"
   ],
   "window_display": false
  }
 },
 "nbformat": 4,
 "nbformat_minor": 5
}
