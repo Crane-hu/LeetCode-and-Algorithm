{
 "cells": [
  {
   "cell_type": "code",
   "execution_count": 1,
   "id": "dfc4bedb",
   "metadata": {},
   "outputs": [
    {
     "name": "stdout",
     "output_type": "stream",
     "text": [
      "=*=*=*=*=*=*=*=*=*=*zip()函数单个参数=*=*=*=*=*=*=*=*=*=*\n",
      "zip()函数的返回类型：\n",
      " <class 'zip'>\n",
      "zip对象转化为列表：\n",
      " [(1,), (2,), (3,), (4,)]\n"
     ]
    }
   ],
   "source": [
    "## zip()函数单个参数\n",
    "print('=*'*10 + \"zip()函数单个参数\" + '=*'*10)\n",
    "list1 = [1, 2, 3, 4]\n",
    "tuple1 = zip(list1)\n",
    "# 打印zip函数的返回类型\n",
    "print(\"zip()函数的返回类型：\\n\", type(tuple1))\n",
    "# 将zip对象转化为列表\n",
    "print(\"zip对象转化为列表：\\n\", list(tuple1))"
   ]
  },
  {
   "cell_type": "code",
   "execution_count": 2,
   "id": "287c0adb",
   "metadata": {},
   "outputs": [
    {
     "name": "stdout",
     "output_type": "stream",
     "text": [
      "=*=*=*=*=*=*=*=*=*=*zip()函数有2个参数=*=*=*=*=*=*=*=*=*=*\n",
      "行与列相同:\n",
      " [([1, 2, 3], [2, 2, 2]), ([4, 5, 6], [3, 3, 3]), ([7, 8, 9], [4, 4, 4])]\n",
      "行与列不同:\n",
      " [([1, 2, 3], [2, 2, 2]), ([4, 5, 6], [3, 3, 3])]\n"
     ]
    }
   ],
   "source": [
    "## zip()函数有2个参数\n",
    "print('=*'*10 + \"zip()函数有2个参数\" + '=*'*10)\n",
    "m = [[1, 2, 3],  [4, 5, 6],  [7, 8, 9]]\n",
    "n = [[2, 2, 2],  [3, 3, 3],  [4, 4, 4]]\n",
    "p = [[2, 2, 2],  [3, 3, 3]]\n",
    "# 行与列相同\n",
    "print(\"行与列相同:\\n\", list(zip(m, n)))\n",
    "# 行与列不同\n",
    "print(\"行与列不同:\\n\", list(zip(m, p)))"
   ]
  },
  {
   "cell_type": "code",
   "execution_count": 3,
   "id": "65032a9b",
   "metadata": {},
   "outputs": [
    {
     "name": "stdout",
     "output_type": "stream",
     "text": [
      "=*=*=*=*=*=*=*=*=*=*矩阵点乘=*=*=*=*=*=*=*=*=*=*\n",
      "[2, 4, 6, 12, 15, 18, 28, 32, 36]\n",
      "=*=*=*=*=*=*=*=*=*=*矩阵相加,相减=*=*=*=*=*=*=*=*=*=*\n",
      "[3, 4, 5, 7, 8, 9, 11, 12, 13]\n"
     ]
    }
   ],
   "source": [
    "## zip()应用，也可以使用for循环+列表推导式实现\n",
    "# 矩阵相加减、点乘\n",
    "m = [[1, 2, 3],  [4, 5, 6],  [7, 8, 9]]\n",
    "n = [[2, 2, 2],  [3, 3, 3],  [4, 4, 4]]\n",
    "# 矩阵点乘\n",
    "print('=*'*10 + \"矩阵点乘\" + '=*'*10)\n",
    "print([x*y for a, b in zip(m, n) for x, y in zip(a, b)])\n",
    "# 矩阵相加,相减雷同\n",
    "print('=*'*10 + \"矩阵相加,相减\" + '=*'*10)\n",
    "print([x+y for a, b in zip(m, n) for x, y in zip(a, b)])"
   ]
  },
  {
   "cell_type": "code",
   "execution_count": 4,
   "id": "f581ff2f",
   "metadata": {},
   "outputs": [
    {
     "name": "stdout",
     "output_type": "stream",
     "text": [
      "=*=*=*=*=*=*=*=*=*=**zip()函数=*=*=*=*=*=*=*=*=*=*\n",
      "*zip(m, n)返回:\n",
      " ([1, 2, 3], [2, 2, 2]) ([4, 5, 6], [3, 3, 3]) ([7, 8, 9], [4, 4, 4])\n",
      "True\n"
     ]
    }
   ],
   "source": [
    "## *zip()函数\n",
    "print('=*'*10 + \"*zip()函数\" + '=*'*10)\n",
    "m = [[1, 2, 3],  [4, 5, 6],  [7, 8, 9]]\n",
    "n = [[2, 2, 2],  [3, 3, 3],  [4, 4, 4]]\n",
    "print(\"*zip(m, n)返回:\\n\", *zip(m, n))\n",
    "m2, n2 = zip(*zip(m, n))\n",
    "print(m == list(m2) and n == list(n2))"
   ]
  }
 ],
 "metadata": {
  "kernelspec": {
   "display_name": "Python 3",
   "language": "python",
   "name": "python3"
  },
  "language_info": {
   "codemirror_mode": {
    "name": "ipython",
    "version": 3
   },
   "file_extension": ".py",
   "mimetype": "text/x-python",
   "name": "python",
   "nbconvert_exporter": "python",
   "pygments_lexer": "ipython3",
   "version": "3.8.8"
  }
 },
 "nbformat": 4,
 "nbformat_minor": 5
}
